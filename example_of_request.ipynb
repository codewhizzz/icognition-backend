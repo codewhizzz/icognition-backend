{
 "cells": [
  {
   "cell_type": "code",
   "execution_count": 82,
   "metadata": {},
   "outputs": [
    {
     "name": "stderr",
     "output_type": "stream",
     "text": [
      "2023-09-19:13:39:59,067 DEBUG    [connectionpool.py:546] https://huggingface.co:443 \"HEAD /meta-llama/Llama-2-70b-chat-hf/resolve/main/tokenizer_config.json HTTP/1.1\" 200 0\n"
     ]
    }
   ],
   "source": [
    "import requests\n",
    "import json\n",
    "from app import html_parser\n",
    "from app.hf_api_caller import HfAPICaller\n",
    "from pprint import pprint\n",
    "llama = HfAPICaller()"
   ]
  },
  {
   "cell_type": "code",
   "execution_count": 3,
   "metadata": {},
   "outputs": [
    {
     "name": "stderr",
     "output_type": "stream",
     "text": [
      "2023-09-19:08:54:36,264 DEBUG    [connectionpool.py:1048] Starting new HTTPS connection (1): medium.com:443\n",
      "2023-09-19:08:54:36,472 DEBUG    [connectionpool.py:546] https://medium.com:443 \"GET /@michaelgoitein/the-playing-to-win-framework-part-iii-the-strategy-choice-cascade-279c3b5ccea3 HTTP/1.1\" 200 None\n",
      "2023-09-19:08:54:36,529 INFO     [html_parser.py:48] [19, 5, 5, 3, 5, 3, 3, 3, 3, 5, 3]\n"
     ]
    }
   ],
   "source": [
    "url = \"https://medium.com/@michaelgoitein/the-playing-to-win-framework-part-iii-the-strategy-choice-cascade-279c3b5ccea3\"\n",
    "page = html_parser.create_page(url)"
   ]
  },
  {
   "cell_type": "code",
   "execution_count": 17,
   "metadata": {},
   "outputs": [
    {
     "data": {
      "text/plain": [
       "'The “Playing to Win” Framework — Part III — The Strategy Choice Cascade\\nA global strategy expert’s simple but effective approach to designing winning strategies\\nIn Part I of this series, we met Roger L. Martin, became familiar with his long and successful career in strategy, and introduced the “Playing to Win” framework.\\nIn Part II, we learned about and stepped through the Strategy Process Map, a 7-step approach combining the strengths of Design Thinking with the rigor of scientific hypothesis and testing.\\nNow, in Part III, we’ll dig into the crux of winning strategy formulation — stepping through the five choices that make up the Strategy Choice Cascade.\\nHow the Strategy Choice Cascade is Different\\nWhat kinds of questions do they ask when creating their strategies?\\nInterestingly, the process tends to diverge into some flavor of either a “One Idea” strategy, or a massive data gathering and synthesis exercise resulting in hundreds of pages of “strategic plans” patterned on pre-made “playbooks.”\\nThe “One Idea” Strategy\\nThe “One Idea” approach is typically based on something that seems to be a “can’t miss,” genius idea.\\nWhile the history of business is littered with any number of failed startups, a recent notable example was the short-form streaming service “Quibi.” Touted as the “future of streaming content,” Quibi was the brainchild of former Disney exec and Dreamworks SKG co-founder Jeffrey Katzenberg and former HP CEO Meg Whitman.\\nQuibi promised to “revolutionize” short-form subscription video tailored to the mobile form factor for short-form video “on the go.”\\n“It’s unbelievable how many hours we all spend watching great TV content today and, separately, how much time we are consuming short-form content… so why can’t those two…'"
      ]
     },
     "execution_count": 17,
     "metadata": {},
     "output_type": "execute_result"
    }
   ],
   "source": [
    "page.full_text"
   ]
  },
  {
   "cell_type": "code",
   "execution_count": 38,
   "metadata": {},
   "outputs": [],
   "source": [
    "\n",
    "prompt = \"\"\"<s>[INST] <<SYS>>\n",
    "You are a helpful, respectful and honest assistant. Always answer as helpfully as possible, while being safe.  Your answers should not include any harmful, unethical, racist, sexist, toxic, dangerous, or illegal content. Please ensure that your responses are socially unbiased and positive in nature.\n",
    "\n",
    "If a question does not make any sense, or is not factually coherent, explain why instead of answering something not correct. If you don't know the answer to a question, please don't share false information.\n",
    "<</SYS>>\n",
    "\n",
    "Write up to six points that summarize the following text: {BODY} [/INST]\n",
    "\"\"\""
   ]
  },
  {
   "cell_type": "code",
   "execution_count": 74,
   "metadata": {},
   "outputs": [],
   "source": [
    "prompt = \"\"\"<s>[INST] <<SYS>>\n",
    "You are a helpful, respectful and honest assistant. Always answer as helpfully as possible, while being safe.  \n",
    "Your answers should not include any harmful, unethical, racist, sexist, toxic, dangerous, or illegal content. \n",
    "Please ensure that your responses are socially unbiased and positive in nature.\n",
    "If a question does not make any sense, or is not factually coherent, explain why instead of answering something not correct. \n",
    "If you don't know the answer to a question, please don't share false information.\n",
    "<</SYS>>\n",
    "\n",
    "Find people, companies, and places in the text between the double quotes. \n",
    "Format each item wrap with XML element tags, for example <people>[PERSON]</poeple> for people, don't create tag in data is not correct. \"\"{BODY}\"\" [/INST]\n",
    "\"\"\""
   ]
  },
  {
   "cell_type": "code",
   "execution_count": 60,
   "metadata": {},
   "outputs": [],
   "source": [
    "\n",
    "prompt = \"\"\"<s>[INST] <<SYS>>\n",
    "You are a helpful, respectful and honest assistant. Always answer as helpfully as possible, while being safe.  Your answers should not include any harmful, unethical, racist, sexist, toxic, dangerous, or illegal content. Please ensure that your responses are socially unbiased and positive in nature.\n",
    "\n",
    "If a question does not make any sense, or is not factually coherent, explain why instead of answering something not correct. If you don't know the answer to a question, please don't share false information.\n",
    "<</SYS>>\n",
    "\n",
    "Identify the up to 5 key concepts mentioned in the text between the double quotes. Format the output as  <c>[CONCEPT]</c><e>[EXPLANATION]</e> \"\"{BODY}\"\" [/INST]\n",
    "\"\"\""
   ]
  },
  {
   "cell_type": "code",
   "execution_count": 90,
   "metadata": {},
   "outputs": [
    {
     "name": "stderr",
     "output_type": "stream",
     "text": [
      "2023-09-19:13:43:09,247 INFO     [api_model.py:167] Sending query to API: <s>[INST] <<SYS>>\n",
      "Yo...\n",
      "2023-09-19:13:43:09,252 DEBUG    [connectionpool.py:1048] Starting new HTTPS connection (1): api-inference.huggingface.co:443\n",
      "2023-09-19:13:43:14,353 DEBUG    [connectionpool.py:546] https://api-inference.huggingface.co:443 \"POST /models/meta-llama/Llama-2-70b-chat-hf HTTP/1.1\" 200 None\n",
      "2023-09-19:13:43:14,357 INFO     [api_model.py:144] API Call successful. Status code 200. Generated text length: 225\n",
      "2023-09-19:13:43:14,361 INFO     [api_model.py:178] API Call successful. Returning results. len(results): 225\n"
     ]
    },
    {
     "name": "stdout",
     "output_type": "stream",
     "text": [
      "(' People:\\n'\n",
      " '<people>Roger L. Martin</people>\\n'\n",
      " '<people>Jeffrey Katzenberg</people>\\n'\n",
      " '<people>Meg Whitman</people>\\n'\n",
      " '\\n'\n",
      " 'Companies:\\n'\n",
      " '<company>Quibi</company>\\n'\n",
      " '<company>Disney</company>\\n'\n",
      " '<company>Dreamworks SKG</company>\\n'\n",
      " '<company>HP</company>')\n"
     ]
    }
   ],
   "source": [
    "prompt2 = prompt.format(BODY=page.full_text)\n",
    "results = llama.generate(prompt2)\n",
    "pprint(results)"
   ]
  },
  {
   "cell_type": "code",
   "execution_count": 7,
   "metadata": {},
   "outputs": [
    {
     "data": {
      "text/plain": [
       "<spacyopentapioca.entity_linker.EntityLinker at 0x7fbdd12dfbe0>"
      ]
     },
     "execution_count": 7,
     "metadata": {},
     "output_type": "execute_result"
    }
   ],
   "source": [
    "import spacy\n",
    "nlp = spacy.load('en_core_web_lr')\n",
    "nlp.add_pipe(\"opentapioca\")\n",
    "\n"
   ]
  },
  {
   "cell_type": "code",
   "execution_count": null,
   "metadata": {},
   "outputs": [],
   "source": []
  },
  {
   "cell_type": "code",
   "execution_count": 3,
   "metadata": {},
   "outputs": [
    {
     "data": {
      "text/plain": [
       "spacy.lang.en.English"
      ]
     },
     "execution_count": 3,
     "metadata": {},
     "output_type": "execute_result"
    }
   ],
   "source": [
    "import spacy\n",
    "nlp = spacy.blank(\"en\")\n",
    "nlp.add_pipe(\"opentapioca\")\n",
    "type(nlp)"
   ]
  },
  {
   "cell_type": "code",
   "execution_count": 2,
   "metadata": {},
   "outputs": [
    {
     "name": "stdout",
     "output_type": "stream",
     "text": [
      "('Amazon', 'Q3783', 'ORG', ['American multinational technology company'], 0.6149710160117657)\n",
      "('amazon is a company', 'Q3884', 'ORG', ['American multinational technology company'], 2.439415036234588)\n"
     ]
    }
   ],
   "source": [
    "doc = nlp(\"This is a sentence about Apple and Amazon. apple is a company and a fruit. amazon is a company and a river\")\n",
    "\n",
    "for span in doc.ents:\n",
    "    print((span.text, span.kb_id_, span.label_, span._.description, span._.score))"
   ]
  },
  {
   "cell_type": "code",
   "execution_count": 9,
   "metadata": {},
   "outputs": [],
   "source": [
    "import spacy as s2\n",
    "s2.prefer_gpu()\n",
    "nlp = s2.load('en_core_web_trf')\n"
   ]
  },
  {
   "cell_type": "code",
   "execution_count": 10,
   "metadata": {},
   "outputs": [
    {
     "name": "stdout",
     "output_type": "stream",
     "text": [
      "('Obama', '', 'PERSON', None, None)\n",
      "('Amazon', '', 'ORG', None, None)\n",
      "('apple', '', 'ORG', None, None)\n",
      "('amazon', '', 'ORG', None, None)\n"
     ]
    }
   ],
   "source": [
    "doc = nlp(\"This is a sentence about Obama and Amazon. apple is a company and a fruit. amazon is a company and a river\")\n",
    "\n",
    "for span in doc.ents:\n",
    "    print((span.text, span.kb_id_, span.label_, span._.description, span._.score))"
   ]
  }
 ],
 "metadata": {
  "kernelspec": {
   "display_name": "Python 3 (ipykernel)",
   "language": "python",
   "name": "python3"
  },
  "language_info": {
   "codemirror_mode": {
    "name": "ipython",
    "version": 3
   },
   "file_extension": ".py",
   "mimetype": "text/x-python",
   "name": "python",
   "nbconvert_exporter": "python",
   "pygments_lexer": "ipython3",
   "version": "3.10.13"
  }
 },
 "nbformat": 4,
 "nbformat_minor": 2
}
